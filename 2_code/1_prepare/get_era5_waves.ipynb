{
 "cells": [
  {
   "cell_type": "code",
   "execution_count": null,
   "id": "ab2dee08",
   "metadata": {},
   "outputs": [],
   "source": [
    "import hydromt\n",
    "import xarray as xr\n",
    "import geopandas as gpd\n",
    "from os.path import join\n",
    "import glob"
   ]
  },
  {
   "cell_type": "code",
   "execution_count": null,
   "id": "99fb1177",
   "metadata": {},
   "outputs": [],
   "source": [
    "bbox =  32.0, -21.5, 35.5, -17.0\n",
    "gdf = gpd.read_file(r'gtsm_locs.gpkg', bbox=bbox)\n",
    "stations = gdf.stations.values\n",
    "stations = 18275"
   ]
  },
  {
   "cell_type": "code",
   "execution_count": null,
   "id": "38a3c9d6",
   "metadata": {},
   "outputs": [],
   "source": [
    "loc = gdf[gdf['stations']==stations]"
   ]
  },
  {
   "cell_type": "code",
   "execution_count": null,
   "id": "46642675",
   "metadata": {},
   "outputs": [],
   "source": [
    "fns = r'p:\\wflow_global\\forcing\\ERA5\\waves\\era5_shww_*_hourly.nc'\n",
    "ds = xr.open_mfdataset(fns, concat_dim='time', chunks={'latitude':60, 'longitude':60})\n",
    "ds"
   ]
  },
  {
   "cell_type": "code",
   "execution_count": null,
   "id": "ce909428",
   "metadata": {},
   "outputs": [],
   "source": [
    "ds1 = ds.raster.sample(loc).squeeze()\n",
    "encoding = {'shww': {'zlib': True}}\n",
    "ds1.to_netcdf(f'era5_shww_{stations}.nc', encoding=encoding)"
   ]
  },
  {
   "cell_type": "code",
   "execution_count": null,
   "id": "bd3aec7e",
   "metadata": {},
   "outputs": [],
   "source": []
  }
 ],
 "metadata": {
  "kernelspec": {
   "display_name": "Python 3",
   "language": "python",
   "name": "python3"
  },
  "language_info": {
   "codemirror_mode": {
    "name": "ipython",
    "version": 3
   },
   "file_extension": ".py",
   "mimetype": "text/x-python",
   "name": "python",
   "nbconvert_exporter": "python",
   "pygments_lexer": "ipython3",
   "version": "3.9.4"
  }
 },
 "nbformat": 4,
 "nbformat_minor": 5
}
