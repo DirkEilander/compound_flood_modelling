{
 "cells": [
  {
   "cell_type": "code",
   "execution_count": null,
   "id": "c3db69d4",
   "metadata": {},
   "outputs": [],
   "source": [
    "import hydromt\n",
    "from os.path import join\n",
    "\n",
    "root = r'd:\\work\\compound_flood_modelling'\n",
    "bbox=[34.20,-20.25,35.10,-19.15]\n",
    "cat = hydromt.DataCatalog(deltares_data=True, data_libs=['data.yml'])"
   ]
  },
  {
   "cell_type": "code",
   "execution_count": null,
   "id": "91c2d487",
   "metadata": {},
   "outputs": [],
   "source": [
    "# extract static data from the Deltares data catalog\n",
    "source_names = [\n",
    "    'gcn250',\n",
    "    'merit_hydro',\n",
    "    'gebco',\n",
    "    'grwl_mask',\n",
    "    'mdt_cnes_cls18',\n",
    "    'osm_coastlines',\n",
    "    'rivers_lin2019_v1'\n",
    "    'vito',\n",
    "]\n",
    "cat.export_data(\n",
    "    data_root=join(root, '1_data','1_static'),\n",
    "    bbox=bbox,\n",
    "    source_names=source_names,\n",
    "    unit_conversion=False,\n",
    ")"
   ]
  },
  {
   "cell_type": "code",
   "execution_count": null,
   "id": "28bcf2b7",
   "metadata": {},
   "outputs": [],
   "source": [
    "# extract forcing data\n",
    "\n",
    "source_names = [\n",
    "    'glofas_era5',\n",
    "    'glofas_uparea',\n",
    "    'era5_ro',\n",
    "]\n",
    "cat.export_data(\n",
    "    data_root=join(root, '1_data','2_forcing'),\n",
    "    bbox=bbox,\n",
    "    # time_tuple=('20190301','20190331'),\n",
    "    time_tuple=('20210101','20210131'),\n",
    "    source_names=source_names,\n",
    "    unit_conversion=False,\n",
    ")"
   ]
  },
  {
   "cell_type": "code",
   "execution_count": null,
   "id": "a0102327",
   "metadata": {},
   "outputs": [],
   "source": [
    "import xarray as xr\n",
    "from os.path import join\n",
    "import glob\n",
    "root = \"../../1_data\"\n",
    "fns = glob.glob(join(root, '2_forcing','ERA5', 'era5_ro_*.nc'))\n",
    "for fn in fns:\n",
    "    print(fn)\n",
    "    da_ro = xr.open_dataset(fn)\n",
    "    encoding = {v: {'zlib': True} for v in da_ro.data_vars}\n",
    "    (da_ro*0.8).to_netcdf(fn.replace('era5_ro_', 'era5_ro80_'), encoding=encoding)\n",
    "    (da_ro*1.2).to_netcdf(fn.replace('era5_ro_', 'era5_ro120_'), encoding=encoding)"
   ]
  }
 ],
 "metadata": {
  "kernelspec": {
   "display_name": "Python 3",
   "language": "python",
   "name": "python3"
  },
  "language_info": {
   "codemirror_mode": {
    "name": "ipython",
    "version": 3
   },
   "file_extension": ".py",
   "mimetype": "text/x-python",
   "name": "python",
   "nbconvert_exporter": "python",
   "pygments_lexer": "ipython3",
   "version": "3.9.4"
  }
 },
 "nbformat": 4,
 "nbformat_minor": 5
}
