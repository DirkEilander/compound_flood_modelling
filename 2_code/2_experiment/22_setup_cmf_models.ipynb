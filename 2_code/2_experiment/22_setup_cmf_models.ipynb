{
 "cells": [
  {
   "cell_type": "code",
   "execution_count": 1,
   "metadata": {},
   "outputs": [],
   "source": [
    "import xarray as xr\n",
    "import numpy as np\n",
    "import hydromt\n",
    "from os.path import join, basename, isdir\n",
    "import glob\n",
    "import matplotlib.pyplot as plt\n",
    "from rasterio.transform import from_bounds\n",
    "import geopandas as gpd"
   ]
  },
  {
   "cell_type": "code",
   "execution_count": 2,
   "metadata": {},
   "outputs": [],
   "source": [
    "from hydromt import DataCatalog\n",
    "data_libs = [\n",
    "    r'../../1_data/2_forcing/forcing_data.yml',    \n",
    "]\n",
    "data_cat = DataCatalog(deltares_data=True, data_libs=data_libs)"
   ]
  },
  {
   "cell_type": "code",
   "execution_count": 7,
   "metadata": {},
   "outputs": [],
   "source": [
    "# read SFINCS maps\n",
    "mdir = r'../../3_models/CMF/03min'\n",
    "\n",
    "# from params.txt:\n",
    "shape = 45, 35  # nrow, ncol 6 min\n",
    "shape = 90, 70  # nrow, ncol 3 min\n",
    "bbox = [32, -21.5, 35.5, -17] # W, S, E, N\n",
    "\n",
    "# read model maps\n",
    "transform = from_bounds(*bbox, shape[1], shape[0])\n",
    "nodata=-9999\n",
    "da_lst = []\n",
    "nlayers = {'nextxy': 2, 'lonlat': 2}\n",
    "dtypes = {'nextxy': 'i4', 'basin': 'i4'}\n",
    "for name in ['elevtn', 'nextxy', 'lonlat', 'uparea', 'rivhgt', 'rivwth_gwdlr', 'basin', 'rivdph_hc0.27_hp0.3']:\n",
    "    shape0 = (nlayers[name], shape[0], shape[1]) if name in nlayers else shape\n",
    "    dtype = dtypes.get(name, 'f4')\n",
    "    da = hydromt.raster.RasterDataArray.from_numpy(\n",
    "        data = np.fromfile(join(mdir, f'{name}.bin'), dtype).reshape((shape0)),\n",
    "        transform=transform, \n",
    "        nodata=nodata,\n",
    "    )\n",
    "    da.name = name\n",
    "    da_lst.append(da)\n",
    "ds = xr.merge(da_lst)#.rename({'rivhgt': 'rivdph', 'rivwth_grwl': 'rivwth'})\n",
    "ds.raster.set_crs(4326)\n",
    "ds['idx'] = xr.DataArray(data=np.arange(ds.raster.size, dtype=int).reshape(ds.raster.shape), dims=ds.raster.dims)\n",
    "cmf_mask = ds['uparea'] != ds['uparea'].raster.nodata\n",
    "ds['uparea'] = (ds['uparea']/1e6).where(cmf_mask, ds['uparea'].raster.nodata) # km2\n",
    "ds['pit'] = (ds['nextxy']==-9).all('dim0')\n",
    "cols, rows = np.meshgrid(range(shape[1]), range(shape[0]))\n",
    "ds['col']= xr.Variable(data=cols+1, dims=da.raster.dims)\n",
    "ds['row']= xr.Variable(data=rows+1, dims=da.raster.dims)\n",
    "\n",
    "# initiate flow dir object\n",
    "flw = hydromt.flw.flwdir_from_da(ds['nextxy'], ftype='nextxy')"
   ]
  },
  {
   "cell_type": "code",
   "execution_count": 11,
   "metadata": {},
   "outputs": [],
   "source": [
    "ds['uparea'].raster.set_nodata(nodata)\n",
    "ds['uparea'].raster.to_raster(join(mdir, 'uparea.tif'))\n",
    "ds['elevtn'].raster.to_raster(join(mdir, 'elevtn.tif'))\n",
    "ds['rivdph_hc0.27_hp0.3'].raster.to_raster(join(mdir, 'rivdph_hc0.27_hp0.3.tif'))"
   ]
  },
  {
   "cell_type": "code",
   "execution_count": null,
   "metadata": {},
   "outputs": [],
   "source": [
    "# get CaMa-flood outlet locations and convert to point geometry\n",
    "xs, ys = ds['lonlat'].raster.mask_nodata().values\n",
    "gdf_out = gpd.GeoDataFrame(\n",
    "    geometry=gpd.points_from_xy(xs.ravel(),ys.ravel(), crs=4326),\n",
    "    data = {name: ds[name].values.ravel() for name in ds.data_vars if ds[name].ndim == 2}\n",
    ")\n",
    "gdf_out = gdf_out[~gdf_out.geometry.is_empty].set_index('idx')  # drop invalid  points\n",
    "gdf_out['upa10'] = np.log10(gdf_out['uparea'])\n",
    "gdf_pits = gdf_out[gdf_out['pit']]\n",
    "gdf_pits.columns"
   ]
  },
  {
   "cell_type": "markdown",
   "metadata": {},
   "source": [
    "### prepare downstream boundary mapping"
   ]
  },
  {
   "cell_type": "code",
   "execution_count": null,
   "metadata": {},
   "outputs": [],
   "source": [
    "import pygeos\n",
    "\n",
    "def cmf_pit_mapping(gdf_gtsm, name, gdf_pits, mapdir=mdir, max_dist=10e3):\n",
    "    pts = pygeos.points([g.coords[:][0] for g in gdf_pits.geometry])\n",
    "    gtsm_idx = gdf_gtsm.sindex.nearest(pts)[1]\n",
    "    gdf_pits['gtsm_idx'] = gtsm_idx + 1\n",
    "    gdf_pits['gtsm_dst']  = gdf_gtsm.iloc[gtsm_idx].to_crs(32736).distance(gdf_pits.to_crs(32736), align=False).values\n",
    "    gdf_pits = gdf_pits[gdf_pits['gtsm_dst']<max_dist]\n",
    "    nlinks = gdf_pits.index.size\n",
    "    print(nlinks)\n",
    "    cmf_gtsm_ref = gdf_pits[['col', 'row', 'gtsm_idx']].fillna(0).values.astype(np.int32)\n",
    "    with open(join(mapdir, f'{name}.txt'), 'w') as f:\n",
    "        f.write(f'{nlinks:d}\\n')\n",
    "        np.savetxt(\n",
    "            f, \n",
    "            cmf_gtsm_ref,\n",
    "            fmt='%3.d',\n",
    "        )\n",
    "    return gdf_pits, cmf_gtsm_ref"
   ]
  },
  {
   "cell_type": "code",
   "execution_count": null,
   "metadata": {},
   "outputs": [],
   "source": [
    "gdf_gtsm = data_cat.get_geodataset('gtsm_idai_twl').vector.to_gdf()\n",
    "gdf_pits1, cmf_gtsm_ref = cmf_pit_mapping(gdf_gtsm, name='GTSM_EVENT', gdf_pits=gdf_pits, max_dist=20e3)\n",
    "\n",
    "fig, ax = plt.subplots(1,1, figsize=(6,6))\n",
    "gdf_pits.plot(markersize=(gdf_pits['upa10'].values)*6, color='g', ax=ax)\n",
    "gdf_pits1.plot(markersize=(gdf_pits1['upa10'].values)*7, color='k', ax=ax)\n",
    "gdf_gtsm.iloc[np.unique(gdf_pits1['gtsm_idx'].values-1)].plot(markersize=15, color='r', marker='^', ax=ax)"
   ]
  },
  {
   "cell_type": "markdown",
   "metadata": {},
   "source": [
    "### prepare river width and depth maps"
   ]
  },
  {
   "cell_type": "code",
   "execution_count": null,
   "metadata": {},
   "outputs": [],
   "source": [
    "# get lin 2019 river width and bankfull Q data\n",
    "\n",
    "bbox1 = np.nanmin(xs), np.nanmin(ys), np.nanmax(xs), np.nanmax(ys)\n",
    "print(bbox1)\n",
    "\n",
    "gdf_rivdata = data_cat.get_geodataframe('rivers_lin2019_v1', bbox=bbox1, buffer=1000) # buffer [m]"
   ]
  },
  {
   "cell_type": "code",
   "execution_count": null,
   "metadata": {},
   "outputs": [],
   "source": [
    "# merge lin river with data with CaMa-Flood data\n",
    "from hydromt.gis_utils import nearest_merge\n",
    "cols = [\"rivwth\", \"qbankfull\"]\n",
    "gdf_out1 = nearest_merge(gdf_out, gdf_rivdata, columns=cols, max_dist=2e2)\n",
    "for col in cols:\n",
    "    data = np.full(ds.raster.shape, nodata, dtype=float)\n",
    "    data.flat[gdf_out1.index.values] = gdf_out1[col].fillna(nodata).values\n",
    "    # ds[col] = xr.DataArray(flw.fillnodata(data, nodata), dims=ds.raster.dims)\n",
    "    ds[col] = xr.DataArray(data, dims=ds.raster.dims)\n",
    "    ds[col].raster.set_nodata(nodata)"
   ]
  },
  {
   "cell_type": "code",
   "execution_count": null,
   "metadata": {},
   "outputs": [],
   "source": [
    "# derive river width \n",
    "min_rivwth = 5\n",
    "min_rivdph = 1\n",
    "\n",
    "ds['qbankfull'] = np.maximum(ds['qbankfull'], 0).where(cmf_mask, nodata)\n",
    "ds['rivwth'] = np.maximum(ds['rivwth'], min_rivwth).where(cmf_mask, nodata)\n",
    "# ds['qbankfull'].values.astype(np.float32).tofile(join(mdir, f'qbankfull.bin'))\n",
    "# ds['rivwth'].values.astype(np.float32).tofile(join(mdir, f'rivwth_lin.bin'))"
   ]
  },
  {
   "cell_type": "code",
   "execution_count": null,
   "metadata": {},
   "outputs": [],
   "source": [
    "# derive river depth\n",
    "hc, hp = 0.27, 0.30\n",
    "for hc in [0.135, 0.27, 0.405]:\n",
    "    ds['rivdph'] = np.maximum(hc * ds['qbankfull']**hp, min_rivdph).where(cmf_mask, nodata)\n",
    "    ds['rivdph'].values.astype(np.float32).tofile(join(mdir, f'rivdph_hc{hc}_hp{hp}.bin'))\n",
    "    ds['rivdph'].raster.set_nodata(nodata)\n",
    "    # ds['rivdph'].raster.to_raster(join(mdir, 'rivbath', f'rivdph_hc{hc}_hp{hp}.tif'))"
   ]
  },
  {
   "cell_type": "code",
   "execution_count": null,
   "metadata": {},
   "outputs": [],
   "source": [
    "# get CaMa-Flood flow directions and vectorize streams for visualization\n",
    "feats = flw.vectorize(\n",
    "    xs=xs, ys=ys, **{name: ds[name].values for name in ds.data_vars if (ds[name].ndim == 2 and name != 'idx')}\n",
    ")\n",
    "gdf_riv0 = gpd.GeoDataFrame.from_features(feats, crs=4326).set_index('idx')\n",
    "gdf_riv0.to_file(join(mdir, 'gis', 'nextxy_outlets.geojson'), driver='GeoJSON')#.explore('rivwth', vmin=min_rivwth, vmax=500)\n",
    "gdf_riv0\n"
   ]
  }
 ],
 "metadata": {
  "interpreter": {
   "hash": "dc0994946103a4a9202e7a48444db4b9747772261f089f42618eeb067054486d"
  },
  "kernelspec": {
   "display_name": "Python 3.10.2 64-bit ('hydromt-dev': conda)",
   "language": "python",
   "name": "python3"
  },
  "language_info": {
   "codemirror_mode": {
    "name": "ipython",
    "version": 3
   },
   "file_extension": ".py",
   "mimetype": "text/x-python",
   "name": "python",
   "nbconvert_exporter": "python",
   "pygments_lexer": "ipython3",
   "version": "3.9.4"
  },
  "orig_nbformat": 4
 },
 "nbformat": 4,
 "nbformat_minor": 2
}
