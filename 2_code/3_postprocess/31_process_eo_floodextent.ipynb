{
 "cells": [
  {
   "cell_type": "code",
   "execution_count": null,
   "metadata": {},
   "outputs": [],
   "source": [
    "# NOTE: requires the *.zip archives in 1_data/3_eo_rapid/ to be unzipped"
   ]
  },
  {
   "cell_type": "code",
   "execution_count": null,
   "metadata": {},
   "outputs": [],
   "source": [
    "from hydromt_sfincs import SfincsModel\n",
    "import hydromt\n",
    "from os.path import join\n",
    "import xarray as xr\n",
    "import numpy as np\n",
    "import glob\n",
    "import os\n",
    "import sys"
   ]
  },
  {
   "cell_type": "code",
   "execution_count": null,
   "metadata": {},
   "outputs": [],
   "source": [
    "# requires the model to be setup in step 2_experiment/21_setup_sfincs_models.ipynb\n",
    "root = r'../../3_models/SFINCS/00_base_100m'\n",
    "mod0 = SfincsModel(root, mode='r')"
   ]
  },
  {
   "cell_type": "code",
   "execution_count": null,
   "metadata": {},
   "outputs": [],
   "source": [
    "# read and resample images to model domain\n",
    "ddir = r'../../1_data/3_eo_rapid'\n",
    "dates = ['20190319', '20190320', '20210125']\n",
    "types = ['flooding', 'Dry']\n",
    "\n",
    "rm_fns = []\n",
    "for date in dates:\n",
    "    for name in types:\n",
    "        fns = glob.glob(join(ddir, date, f'{name}*.tif'))\n",
    "        da_lst = []\n",
    "        for fn in fns:\n",
    "            print(fn)\n",
    "            da_obs0 = hydromt.open_raster(fn).load().astype(np.int8)\n",
    "            da_obs0.raster.set_nodata(-1)\n",
    "            try:\n",
    "                da_obs0 = da_obs0.raster.reproject_like(mod0.staticmaps, method='max')\n",
    "                da_lst.append(da_obs0)\n",
    "            except IndexError:\n",
    "                da_obs0.close()\n",
    "                rm_fns.append(fn)\n",
    "                print('out of bounds')\n",
    "                pass\n",
    "            \n",
    "        if len(da_lst) > 0:\n",
    "            print(f'concatenate {len(da_lst)} files')\n",
    "            da = xr.concat(da_lst, dim='img').max('img').load().astype(np.uint8)\n",
    "            da = da.where(da==1,0)\n",
    "            da.raster.set_nodata(0)\n",
    "            da.raster.to_raster(join(root, 'gis', f'{name.lower()}_{date}.tif'), compress='deflate')\n",
    "\n",
    "if len(rm_fns) > 0:\n",
    "    print(f'deleting {len(rm_fns)} files')\n",
    "    for fn in rm_fns:\n",
    "        os.unlink(fn)"
   ]
  },
  {
   "cell_type": "code",
   "execution_count": null,
   "metadata": {},
   "outputs": [],
   "source": []
  }
 ],
 "metadata": {
  "interpreter": {
   "hash": "dc0994946103a4a9202e7a48444db4b9747772261f089f42618eeb067054486d"
  },
  "kernelspec": {
   "display_name": "Python 3.9.4 64-bit ('hydromt-dev': conda)",
   "language": "python",
   "name": "python3"
  },
  "language_info": {
   "codemirror_mode": {
    "name": "ipython",
    "version": 3
   },
   "file_extension": ".py",
   "mimetype": "text/x-python",
   "name": "python",
   "nbconvert_exporter": "python",
   "pygments_lexer": "ipython3",
   "version": "3.9.0"
  },
  "orig_nbformat": 4
 },
 "nbformat": 4,
 "nbformat_minor": 2
}
