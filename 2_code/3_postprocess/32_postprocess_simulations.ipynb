{
 "cells": [
  {
   "cell_type": "code",
   "execution_count": null,
   "metadata": {},
   "outputs": [],
   "source": [
    "from hydromt_sfincs import SfincsModel\n",
    "from os.path import join, isfile, basename, isdir, dirname\n",
    "import xarray as xr\n",
    "import numpy as np\n",
    "import glob\n",
    "import hydromt"
   ]
  },
  {
   "cell_type": "code",
   "execution_count": null,
   "metadata": {},
   "outputs": [],
   "source": [
    "events = {'idai': '20190320', 'eloise':'20210125'}\n",
    "tslice_max = {'idai': ('20190314', '20190322'), 'eloise':('20210119', '20210128')}\n",
    "root0 = r'../../3_models/SFINCS'\n",
    "mod0 = SfincsModel(join(root0, '00_base_100m'), mode='r')\n",
    "\n",
    "def check_finished(root):\n",
    "    finished = False\n",
    "    if isfile(join(root, 'sfincs.log')):\n",
    "        with open(join(root, 'sfincs.log'), 'r') as f:\n",
    "            finished = np.any(['Simulation is finished' in l for l in f.readlines()])\n",
    "    return finished"
   ]
  },
  {
   "cell_type": "code",
   "execution_count": null,
   "metadata": {},
   "outputs": [],
   "source": [
    "# read and combine SFINCS outputs\n",
    "postfix, i = '_100m', 0\n",
    "runs = glob.glob(join(root0, '*/*/','sfincs_map.nc'))\n",
    "encoding = {'flddph': {'zlib': True}}\n",
    "\n",
    "# mod0 = SfincsModel(runs[0], mode='r')\n",
    "# print(runs)\n",
    "\n",
    "cmpd_runs = ['q', 'h', 'p', 'base'] # ['qh']\n",
    "keys = [''] + [f'_{k}' for k in cmpd_runs]\n",
    "for event, date in events.items():\n",
    "    runs = glob.glob(join(root0, '*', f'{event}*', 'sfincs_map.nc'))\n",
    "    print(event)\n",
    "    da_lst, da_lst1, names = [], [], []\n",
    "    for run in runs:\n",
    "        root = dirname(run)\n",
    "        if not basename(dirname(root)).startswith(str(i)): continue\n",
    "        if not check_finished(root): \n",
    "            print(f'{root} NOT FINISHED / FAILED')\n",
    "            continue\n",
    "        mod = SfincsModel(root, mode='r')\n",
    "        key = basename(root).strip(f'{event}')\n",
    "        name = f'{basename(dirname(root))}{key}'\n",
    "        print(name)\n",
    "        mod.read_results()\n",
    "        hmax = np.maximum(0, mod.results['zsmax'] - mod.results['zb'])\n",
    "        hmax = hmax.fillna(0).where(mod.results['zb'].notnull(),-9999)\n",
    "        hmax.raster.set_nodata(-9999)\n",
    "        # hmax = hmax.raster.reproject_like(mod0.staticmaps, 'min')\n",
    "        # save geotif\n",
    "        # hmax.raster.flipud().raster.to_raster(join(mod.root, 'gis', 'hmax.tif'), compress='lzw')\n",
    "        # append to list\n",
    "        da_lst.append(hmax.sel(timemax=date).rename('flddph'))\n",
    "        da_lst1.append(hmax.sel(timemax=slice(*tslice_max[event])).max('timemax').rename('flddph'))\n",
    "        names.append(name)\n",
    "    # save combined output to nc\n",
    "    da = xr.concat(da_lst, dim='run')\n",
    "    da['run'] = xr.IndexVariable('run', names)\n",
    "    da.to_netcdf(join(root0, f'flddph_{event}{postfix}.nc'), encoding=encoding)\n",
    "    # save combined output to nc\n",
    "    da = xr.concat(da_lst1, dim='run')\n",
    "    da['run'] = xr.IndexVariable('run', names)\n",
    "    da.to_netcdf(join(root0, f'flddph_{event}{postfix}_max.nc'), encoding=encoding)\n",
    "    # break\n"
   ]
  },
  {
   "cell_type": "code",
   "execution_count": null,
   "metadata": {},
   "outputs": [],
   "source": [
    "# read and combine CMF outputs\n",
    "root = r'../../3_models/CMF'\n",
    "encoding = {'flddph': {'zlib': True}}\n",
    "\n",
    "for event, date in events.items():\n",
    "    da_lst, names = [], []\n",
    "    for res in ['03min', '06min']:\n",
    "        runs = [path for path in glob.glob(join(root, res, '*')) if isdir(path)]\n",
    "        for run in runs:\n",
    "            fn = join(run, f'flddph_{date}.tif')\n",
    "            if not isfile(fn): continue\n",
    "            hmax = hydromt.open_raster(fn).raster.reproject_like(mod0.staticmaps)\n",
    "            da_lst.append(hmax.rename('flddph'))\n",
    "            names.append(f'{basename(run)}_{res}')\n",
    "    # save combined output to nc\n",
    "    print(names)\n",
    "    da = xr.concat(da_lst, dim='run')\n",
    "    da['run'] = xr.IndexVariable('run', names)\n",
    "    da.to_netcdf(join(root, f'flddph_{event}.nc'), encoding=encoding)"
   ]
  }
 ],
 "metadata": {
  "interpreter": {
   "hash": "dc0994946103a4a9202e7a48444db4b9747772261f089f42618eeb067054486d"
  },
  "kernelspec": {
   "display_name": "Python 3.9.4 64-bit ('hydromt-dev': conda)",
   "language": "python",
   "name": "python3"
  },
  "language_info": {
   "codemirror_mode": {
    "name": "ipython",
    "version": 3
   },
   "file_extension": ".py",
   "mimetype": "text/x-python",
   "name": "python",
   "nbconvert_exporter": "python",
   "pygments_lexer": "ipython3",
   "version": "3.9.4"
  },
  "orig_nbformat": 4
 },
 "nbformat": 4,
 "nbformat_minor": 2
}
