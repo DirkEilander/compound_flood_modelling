{
 "cells": [
  {
   "cell_type": "markdown",
   "metadata": {},
   "source": [
    "This script adapts the river depth and width files"
   ]
  },
  {
   "cell_type": "code",
   "execution_count": null,
   "metadata": {},
   "outputs": [],
   "source": [
    "import xarray as xr\n",
    "import numpy as np\n",
    "import hydromt\n",
    "from os.path import join, basename, isdir\n",
    "import glob\n",
    "import matplotlib.pyplot as plt\n",
    "from rasterio.transform import from_bounds\n",
    "import geopandas as gpd"
   ]
  },
  {
   "cell_type": "code",
   "execution_count": null,
   "metadata": {},
   "outputs": [],
   "source": [
    "mdir = r'../../3_models/CMF/03min'\n",
    "\n",
    "# from params.txt:\n",
    "shape = 45, 35  # nrow, ncol 6 min\n",
    "shape = 90, 70  # nrow, ncol 3 min\n",
    "bbox = [32, -21.5, 35.5, -17] # W, S, E, N\n",
    "\n",
    "# read model maps\n",
    "transform = from_bounds(*bbox, shape[1], shape[0])\n",
    "nodata=-9999\n",
    "da_lst = []\n",
    "nlayers = {'nextxy': 2, 'lonlat': 2}\n",
    "dtypes = {'nextxy': 'i4'}\n",
    "for name in ['nextxy', 'lonlat', 'uparea']: #, 'rivhgt', 'rivwth_grwl' 'rivdph1_hc27_hp30', 'rivwth_est']:\n",
    "    shape0 = (nlayers[name], shape[0], shape[1]) if name in nlayers else shape\n",
    "    dtype = dtypes.get(name, 'f4')\n",
    "    da = hydromt.raster.RasterDataArray.from_numpy(\n",
    "        data = np.fromfile(join(mdir, f'{name}.bin'), dtype).reshape((shape0)),\n",
    "        transform=transform, \n",
    "        nodata=nodata,\n",
    "    )\n",
    "    da.name = name\n",
    "    da_lst.append(da)\n",
    "ds = xr.merge(da_lst)#.rename({'rivhgt': 'rivdph', 'rivwth_grwl': 'rivwth'})\n",
    "ds.raster.set_crs(4326)\n",
    "ds['idx'] = xr.DataArray(data=np.arange(ds.raster.size, dtype=int).reshape(ds.raster.shape), dims=ds.raster.dims)\n",
    "cmf_mask = ds['uparea'] != ds['uparea'].raster.nodata\n",
    "ds['uparea'] = (ds['uparea']/1e6).where(cmf_mask, ds['uparea'].raster.nodata) # km2\n",
    "\n",
    "# initiate flow dir object\n",
    "flw = hydromt.flw.flwdir_from_da(ds['nextxy'], ftype='nextxy')"
   ]
  },
  {
   "cell_type": "code",
   "execution_count": null,
   "metadata": {},
   "outputs": [],
   "source": [
    "ds['uparea'].raster.set_nodata(nodata)\n",
    "ds['uparea'].raster.to_raster(join(mdir, 'uparea.tif'))"
   ]
  },
  {
   "cell_type": "code",
   "execution_count": null,
   "metadata": {},
   "outputs": [],
   "source": [
    "# get CaMa-flood outlet locations and convert to point geometry\n",
    "xs, ys = ds['lonlat'].raster.mask_nodata().values\n",
    "gdf_out = gpd.GeoDataFrame(\n",
    "    geometry=gpd.points_from_xy(xs.ravel(),ys.ravel(), crs=4326),\n",
    "    data = {name: ds[name].values.ravel() for name in ds.data_vars if ds[name].ndim == 2}\n",
    ")\n",
    "gdf_out = gdf_out[~gdf_out.geometry.is_empty].set_index('idx')  # drop invalid  points"
   ]
  },
  {
   "cell_type": "code",
   "execution_count": null,
   "metadata": {},
   "outputs": [],
   "source": [
    "# get lin 2019 river width and bankfull Q data\n",
    "from hydromt import DataCatalog\n",
    "data_cat = DataCatalog(deltares_data=True)\n",
    "bbox1 = np.nanmin(xs), np.nanmin(ys), np.nanmax(xs), np.nanmax(ys)\n",
    "print(bbox1)\n",
    "\n",
    "gdf_rivdata = data_cat.get_geodataframe('rivers_lin2019_v1', bbox=bbox1, buffer=1000) # buffer [m]"
   ]
  },
  {
   "cell_type": "code",
   "execution_count": null,
   "metadata": {},
   "outputs": [],
   "source": [
    "# merge lin river with data with CaMa-Flood data\n",
    "from hydromt.gis_utils import nearest_merge\n",
    "cols = [\"rivwth\", \"qbankfull\"]\n",
    "gdf_out1 = nearest_merge(gdf_out, gdf_rivdata, columns=cols, max_dist=2e2)\n",
    "for col in cols:\n",
    "    data = np.full(ds.raster.shape, nodata, dtype=float)\n",
    "    data.flat[gdf_out1.index.values] = gdf_out1[col].fillna(nodata).values\n",
    "    # ds[col] = xr.DataArray(flw.fillnodata(data, nodata), dims=ds.raster.dims)\n",
    "    ds[col] = xr.DataArray(data, dims=ds.raster.dims)\n",
    "    ds[col].raster.set_nodata(nodata)"
   ]
  },
  {
   "cell_type": "code",
   "execution_count": null,
   "metadata": {},
   "outputs": [],
   "source": [
    "# derive river width \n",
    "min_rivwth = 5\n",
    "\n",
    "ds['qbankfull'] = np.maximum(ds['qbankfull'], 0).where(cmf_mask, nodata)\n",
    "ds['rivwth'] = np.maximum(ds['rivwth'], min_rivwth).where(cmf_mask, nodata)\n",
    "ds['qbankfull'].values.astype(np.float32).tofile(join(mdir, f'qbankfull.bin'))\n",
    "ds['rivwth'].values.astype(np.float32).tofile(join(mdir, f'rivwth_lin.bin'))"
   ]
  },
  {
   "cell_type": "code",
   "execution_count": null,
   "metadata": {},
   "outputs": [],
   "source": [
    "# derive river depth\n",
    "min_rivdph = 1\n",
    "hc, hp = 0.27, 0.25\n",
    "ds['rivdph'] = np.maximum(hc * ds['qbankfull']**hp, min_rivdph).where(cmf_mask, nodata)\n",
    "ds['rivdph'].values.astype(np.float32).tofile(join(mdir, f'rivdph_hc{hc}_hp{hp}.bin'))"
   ]
  },
  {
   "cell_type": "code",
   "execution_count": null,
   "metadata": {},
   "outputs": [],
   "source": [
    "# get CaMa-Flood flow directions and vectorize streams for visualization\n",
    "feats = flw.vectorize(\n",
    "    xs=xs, ys=ys, **{name: ds[name].values for name in ds.data_vars if (ds[name].ndim == 2 and name != 'idx')}\n",
    ")\n",
    "gdf_riv0 = gpd.GeoDataFrame.from_features(feats, crs=4326).set_index('idx')\n",
    "\n",
    "gdf_riv0.explore('rivwth', vmin=min_rivwth, vmax=500)\n"
   ]
  },
  {
   "cell_type": "code",
   "execution_count": null,
   "metadata": {},
   "outputs": [],
   "source": [
    "# (ds['rivdph'] - ds['rivdph1_hc27_hp30']).where(cmf_mask).plot(vmin=-1, vmax=1, cmap='coolwarm')\n",
    "(ds['rivwth'] - ds['rivwth_est']).where(cmf_mask).plot(vmin=-50, vmax=50, cmap='coolwarm')"
   ]
  },
  {
   "cell_type": "code",
   "execution_count": null,
   "metadata": {},
   "outputs": [],
   "source": [
    "ds_base = data_cat.get_rasterdataset('merit_hydro', bbox=bbox1, buffer=5)  #buffer [cells]\n"
   ]
  },
  {
   "cell_type": "code",
   "execution_count": null,
   "metadata": {},
   "outputs": [],
   "source": [
    "flw_d8 = hydromt.flw.flwdir_from_da(ds_base['flwdir'], mask=False)\n",
    "_ = flw_d8.main_upstream(ds_base['uparea'].values)\n",
    "\n",
    "gdf_out['idxs_out'] = flw_d8.index(*ds_flat['lonlat'].isel(index=gdf_out.index))\n",
    "mask = np.zeros(flw_d8.shape, dtype=bool).ravel()\n",
    "for idxs in flw_d8.path(idxs = gdf_out['idxs_out'])[0]:\n",
    "    mask[idxs] = True\n",
    "mask = mask.reshape(flw_d8.shape)\n",
    "\n",
    "feats = flw_d8.streams(\n",
    "    mask=mask,\n",
    "    elevtn=ds_base['elevtn'].values,\n",
    "    uparea=ds_base['uparea'].values,\n",
    "    direction='down',\n",
    "    max_len=5e3\n",
    ")\n",
    "gdf_stream = gpd.GeoDataFrame.from_features(feats, crs=ds_base.raster.crs)\n"
   ]
  },
  {
   "cell_type": "code",
   "execution_count": null,
   "metadata": {},
   "outputs": [],
   "source": [
    "#\n",
    "from hydromt.workflows.rivers import river_width, river_depth\n",
    "\n",
    "da_rivmask = data_cat.get_rasterdataset('grwl_mask', bbox=bbox1)#.raster.reproject_like(ds_base, method='max')\n",
    "da_rivmask = np.logical_and(da_rivmask!=255,da_rivmask!=0)\n",
    "\n",
    "gdf_rivdata = data_cat.get_geodataframe('rivers_lin2019_v1', bbox=bbox1, buffer=1000) # buffer [m]\n",
    "\n",
    "gdf_stream['rivwth'] = river_width(gdf_stream, da_rivmask=da_rivmask)\n"
   ]
  },
  {
   "cell_type": "code",
   "execution_count": null,
   "metadata": {},
   "outputs": [],
   "source": [
    "from hydromt_sfincs.workflows import get_river_bathymetry\n",
    "gdf_riv = get_river_bathymetry(\n",
    "    ds_base,\n",
    "    flwdir=flw_d8,\n",
    "    gdf_riv=gdf_rivdata,\n",
    "    river_upa = 25,\n",
    "    river_len = 1e3,\n",
    "    segment_length=5e3,\n",
    "    rivdph_method='powlaw',\n",
    "    hp=0.3,\n",
    "    hc=0.27,\n",
    "    rivwth_method='geom'\n",
    ")\n"
   ]
  },
  {
   "cell_type": "code",
   "execution_count": null,
   "metadata": {},
   "outputs": [],
   "source": [
    "gdf_stream.explore('rivwth', vmin=5, vmax=300, cmap='Blues')"
   ]
  },
  {
   "cell_type": "code",
   "execution_count": null,
   "metadata": {},
   "outputs": [],
   "source": [
    "gdf_stream.to_file('cmf_streams.gpkg', driver='GPKG')"
   ]
  },
  {
   "cell_type": "code",
   "execution_count": null,
   "metadata": {},
   "outputs": [],
   "source": [
    "\n",
    "mdir1 = r'../../3_models/SFINCS'\n",
    "runs = [path for path in glob.glob(join(mdir1, '*')) if isdir(path)]\n",
    "runs"
   ]
  },
  {
   "cell_type": "code",
   "execution_count": null,
   "metadata": {},
   "outputs": [],
   "source": [
    "\n",
    "from hydromt.gis_utils import nearest_merge\n",
    "cols = ['rivdph', 'rivwth', 'uparea']\n",
    "\n",
    "for root in runs[2:]:\n",
    "    fn0 = join(root, 'gis', 'rivers.geojson')\n",
    "    gdf_riv = gpd.read_file(fn0)\n",
    "    gdf_out1 = nearest_merge(gdf_out.to_crs(gdf_riv.crs), gdf_riv[['geometry']+cols], max_dist=1e3)\n",
    "    valid = np.abs(1-gdf_out1['uparea0']/gdf_out1['uparea'])<0.1\n",
    "    for col in cols:\n",
    "        vals = gdf_out1.loc[gdf_riv0.idx, col].values\n",
    "        vals[~valid.loc[gdf_riv0.idx]] = np.nan\n",
    "        gdf_riv0[col] = np.where(~np.isnan(vals), vals, gdf_riv0[col])\n",
    "    # gdf_riv0['distance_right'] = gdf_out1.loc[gdf_riv0.idx, 'distance_right'].values\n",
    "    # gdf_riv0.explore('distance_right', vmax=1e2)#('rivdph')\n",
    "    for dvar in ['rivdph', 'rivwth']:\n",
    "        data = ds[dvar].values.copy()\n",
    "        data.flat[gdf_riv0.idx.values] = gdf_riv0[dvar].values\n",
    "        data.tofile(join(mdir, f'{dvar}_{basename(root)[3:]}.bin'))\n",
    "    break"
   ]
  }
 ],
 "metadata": {
  "interpreter": {
   "hash": "dc0994946103a4a9202e7a48444db4b9747772261f089f42618eeb067054486d"
  },
  "kernelspec": {
   "display_name": "Python 3.10.2 64-bit ('hydromt-dev': conda)",
   "language": "python",
   "name": "python3"
  },
  "language_info": {
   "codemirror_mode": {
    "name": "ipython",
    "version": 3
   },
   "file_extension": ".py",
   "mimetype": "text/x-python",
   "name": "python",
   "nbconvert_exporter": "python",
   "pygments_lexer": "ipython3",
   "version": "3.9.4"
  },
  "orig_nbformat": 4
 },
 "nbformat": 4,
 "nbformat_minor": 2
}
