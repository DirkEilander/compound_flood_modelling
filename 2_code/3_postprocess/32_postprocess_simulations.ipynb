{
 "cells": [
  {
   "cell_type": "code",
   "execution_count": null,
   "metadata": {},
   "outputs": [],
   "source": [
    "from hydromt_sfincs import SfincsModel\n",
    "from os.path import join, isfile, basename, isdir\n",
    "import xarray as xr\n",
    "import numpy as np\n",
    "import glob\n",
    "import hydromt"
   ]
  },
  {
   "cell_type": "code",
   "execution_count": null,
   "metadata": {},
   "outputs": [],
   "source": [
    "events = {'idai': '20190320', 'eloise':'20210125'}\n",
    "root = r'../../3_models/SFINCS'\n",
    "mod0 = SfincsModel(join(root, '00_base_100m'), mode='r')"
   ]
  },
  {
   "cell_type": "code",
   "execution_count": null,
   "metadata": {},
   "outputs": [],
   "source": [
    "# read and combine SFINCS outputs\n",
    "postfix = '_50m'\n",
    "runs = [path for path in glob.glob(join(root, '*')) if not isfile(path) and basename(path).startswith('1')]\n",
    "mod0 = SfincsModel(runs[0], mode='r')\n",
    "print(runs)\n",
    "\n",
    "for event, date in events.items():\n",
    "    da_lst, names = [], []\n",
    "    for run in runs:\n",
    "        if not isfile(join(run, event, 'sfincs_map.nc')):\n",
    "            continue\n",
    "        mod = SfincsModel(join(run, event), mode='r')\n",
    "        print(run, event)\n",
    "        mod.read_results()\n",
    "        hmax = np.maximum(0, mod.results['zsmax'] - mod.results['zb']).sel(timemax=date)\n",
    "        hmax = hmax.fillna(0).where(mod.results['zb'].notnull(),-9999)\n",
    "        hmax.raster.set_nodata(-9999)\n",
    "        # hmax = hmax.raster.reproject_like(mod0.staticmaps, 'min')\n",
    "        # save geotif\n",
    "        # hmax.raster.flipud().raster.to_raster(join(mod.root, 'gis', 'hmax.tif'), compress='lzw')\n",
    "        # append to list\n",
    "        da_lst.append(hmax.rename('flddph'))\n",
    "        names.append(basename(run))\n",
    "    # save combined output to nc\n",
    "    da = xr.concat(da_lst, dim='run')\n",
    "    da['run'] = xr.IndexVariable('run', names)\n",
    "    encoding = {'flddph': {'zlib': True}}\n",
    "    da.to_netcdf(join(root, f'flddph_{event}{postfix}.nc'))\n",
    "    # break\n"
   ]
  },
  {
   "cell_type": "code",
   "execution_count": null,
   "metadata": {},
   "outputs": [],
   "source": [
    "# read and combine CMF outputs\n",
    "root = r'../../3_models/CMF'\n",
    "\n",
    "for event, date in events.items():\n",
    "    da_lst, names = [], []\n",
    "    for res in ['03min', '06min']:\n",
    "        runs = [path for path in glob.glob(join(root, res, '*')) if isdir(path)]\n",
    "        for run in runs:\n",
    "            fn = join(run, f'flddph_{date}.tif')\n",
    "            if not isfile(fn): continue\n",
    "            hmax = hydromt.open_raster(fn).raster.reproject_like(mod0.staticmaps)\n",
    "            da_lst.append(hmax.rename('flddph'))\n",
    "            names.append(f'{basename(run)}_{res}')\n",
    "    # save combined output to nc\n",
    "    print(names)\n",
    "    da = xr.concat(da_lst, dim='run')\n",
    "    da['run'] = xr.IndexVariable('run', names)\n",
    "    encoding = {'flddph': {'zlib': True}}\n",
    "    da.to_netcdf(join(root, f'flddph_{event}.nc'))"
   ]
  },
  {
   "cell_type": "code",
   "execution_count": null,
   "metadata": {},
   "outputs": [],
   "source": []
  }
 ],
 "metadata": {
  "interpreter": {
   "hash": "dc0994946103a4a9202e7a48444db4b9747772261f089f42618eeb067054486d"
  },
  "kernelspec": {
   "display_name": "Python 3.9.4 64-bit ('hydromt-dev': conda)",
   "language": "python",
   "name": "python3"
  },
  "language_info": {
   "codemirror_mode": {
    "name": "ipython",
    "version": 3
   },
   "file_extension": ".py",
   "mimetype": "text/x-python",
   "name": "python",
   "nbconvert_exporter": "python",
   "pygments_lexer": "ipython3",
   "version": "3.9.4"
  },
  "orig_nbformat": 4
 },
 "nbformat": 4,
 "nbformat_minor": 2
}
