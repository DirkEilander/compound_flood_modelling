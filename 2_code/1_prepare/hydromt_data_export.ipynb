{
 "cells": [
  {
   "cell_type": "code",
   "execution_count": null,
   "id": "919da8c7",
   "metadata": {},
   "outputs": [],
   "source": [
    "# NOTE: this notebook cannot be reproduced outside the Deltares network\n",
    "# the exported data is however availabe from \"../../1_data\""
   ]
  },
  {
   "cell_type": "code",
   "execution_count": 20,
   "id": "c3db69d4",
   "metadata": {},
   "outputs": [],
   "source": [
    "import hydromt\n",
    "from os.path import join\n",
    "\n",
    "root = r'd:\\work\\compound_flood_modelling'\n",
    "bbox=[34.20,-20.25,35.10,-19.15]\n",
    "cat = hydromt.DataCatalog(deltares_data=True, data_libs=['data.yml'])"
   ]
  },
  {
   "cell_type": "code",
   "execution_count": 4,
   "id": "91c2d487",
   "metadata": {},
   "outputs": [],
   "source": [
    "# extract static data from the Deltares data catalog\n",
    "source_names = [\n",
    "    'gcn250',\n",
    "    'merit_hydro',\n",
    "    'gebco',\n",
    "    'grwl_mask',\n",
    "    'mdt_cnes_cls18',\n",
    "    'osm_coastlines',\n",
    "    'rivers_lin2019_v1'\n",
    "    'vito',\n",
    "]\n",
    "cat.export_data(\n",
    "    data_root=join(root, '1_data','1_static'),\n",
    "    bbox=bbox,\n",
    "    source_names=source_names,\n",
    "    unit_conversion=False,\n",
    ")"
   ]
  },
  {
   "cell_type": "code",
   "execution_count": 21,
   "id": "28bcf2b7",
   "metadata": {},
   "outputs": [],
   "source": [
    "# extract forcing data\n",
    "\n",
    "source_names = [\n",
    "    'glofas_era5',\n",
    "    'glofas_uparea',\n",
    "    'era5_ro',\n",
    "]\n",
    "cat.export_data(\n",
    "    data_root=join(root, '1_data','2_forcing'),\n",
    "    bbox=bbox,\n",
    "    # time_tuple=('20190301','20190331'),\n",
    "    time_tuple=('20210101','20210131'),\n",
    "    source_names=source_names,\n",
    "    unit_conversion=False,\n",
    ")"
   ]
  }
 ],
 "metadata": {
  "kernelspec": {
   "display_name": "Python 3",
   "language": "python",
   "name": "python3"
  },
  "language_info": {
   "codemirror_mode": {
    "name": "ipython",
    "version": 3
   },
   "file_extension": ".py",
   "mimetype": "text/x-python",
   "name": "python",
   "nbconvert_exporter": "python",
   "pygments_lexer": "ipython3",
   "version": "3.9.7"
  }
 },
 "nbformat": 4,
 "nbformat_minor": 5
}
