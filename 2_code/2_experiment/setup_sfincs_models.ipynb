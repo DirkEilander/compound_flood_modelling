{
 "cells": [
  {
   "cell_type": "code",
   "execution_count": null,
   "metadata": {},
   "outputs": [],
   "source": [
    "from hydromt_sfincs import SfincsModel\n",
    "from hydromt.config import configread\n",
    "from hydromt.log import setuplog\n",
    "from os.path import join, basename"
   ]
  },
  {
   "cell_type": "code",
   "execution_count": null,
   "metadata": {},
   "outputs": [],
   "source": [
    "# model and data paths\n",
    "model_root = r'../../3_models/SFINCS/00_base'\n",
    "data_libs = [\n",
    "    r'../../1_data/1_static/static_data.yml',\n",
    "    r'../../1_data/2_forcing/forcing_data.yml',    \n",
    "]\n",
    "logger = setuplog('update', join(model_root, \"hydromt.log\"), log_level=10)"
   ]
  },
  {
   "cell_type": "code",
   "execution_count": null,
   "metadata": {},
   "outputs": [],
   "source": [
    "# build model base layers\n",
    "region = {'bbox': [34.33,-20.12,34.95,-19.30]}\n",
    "res = 100 # resolution [m]\n",
    "opt = configread('build_sfincs.ini', abs_path=True)\n",
    "kwargs = opt.pop('global',{})\n",
    "mod = SfincsModel(root=model_root, data_libs=data_libs, logger=logger, **kwargs)\n",
    "mod.build(region=region, res=res, opt=opt)\n",
    "mod.plot_basemap()"
   ]
  },
  {
   "cell_type": "code",
   "execution_count": null,
   "metadata": {},
   "outputs": [],
   "source": [
    "# update river bathymetry and manning roughness\n",
    "new_root = r'../../3_models/SFINCS/01_riv_powlaw'\n",
    "mod1 = SfincsModel(model_root, mode='r', data_libs=data_libs, logger=logger)\n",
    "mod1.read()\n",
    "mod1.set_root(new_root)\n",
    "mod1.setup_river_bathymetry(\n",
    "    river_geom_fn = 'rivers_lin2019_v1', \n",
    "    river_mask_fn = 'grwl_mask', \n",
    "    rivdph_method='powlaw',\n",
    "    rivwth_method='mask',\n",
    "    hc=0.27,\n",
    "    hp=0.40,\n",
    "    river_upa = 100,\n",
    "    constrain_estuary = True,\n",
    "    # plot_riv_profiles = 2\n",
    ")\n",
    "mod1.setup_manning_roughness(\n",
    "    riv_man=0.03,\n",
    "    lnd_man=0.1\n",
    ")  \n",
    "mod1.write()\n",
    "mod1.plot_basemap(geoms=[''])"
   ]
  },
  {
   "cell_type": "code",
   "execution_count": null,
   "metadata": {},
   "outputs": [],
   "source": [
    "# update forcing\n",
    "root = r'../../3_models/SFINCS/01_riv_powlaw'\n",
    "for event in ['idai', 'eloise']:\n",
    "    new_root = f'{root}_{event}'\n",
    "    mod1 = SfincsModel(root, mode='r', data_libs=data_libs, logger=logger)\n",
    "    opt = configread(f'update_sfincs_{event}.ini', abs_path=True)\n",
    "    mod1.update(model_out=new_root, opt=opt)\n",
    "    mod1.write_config(rel_path=f'../{basename(root)}')\n",
    "    mod1.plot_forcing()"
   ]
  }
 ],
 "metadata": {
  "interpreter": {
   "hash": "87738ad7185ebd25f8ba4563c6bcdef2bf2a1f4eb16943d55de9ba19ff30811e"
  },
  "kernelspec": {
   "display_name": "Python 3.9.7 64-bit ('hydromt-dev': conda)",
   "language": "python",
   "name": "python3"
  },
  "language_info": {
   "codemirror_mode": {
    "name": "ipython",
    "version": 3
   },
   "file_extension": ".py",
   "mimetype": "text/x-python",
   "name": "python",
   "nbconvert_exporter": "python",
   "pygments_lexer": "ipython3",
   "version": "3.9.7"
  },
  "orig_nbformat": 4
 },
 "nbformat": 4,
 "nbformat_minor": 2
}
